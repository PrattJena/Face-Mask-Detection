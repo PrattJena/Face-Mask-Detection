{
 "cells": [
  {
   "cell_type": "code",
   "execution_count": 2,
   "metadata": {},
   "outputs": [],
   "source": [
    "# Importing librarires\n",
    "import pickle\n",
    "import tensorflow as tf\n",
    "from tensorflow.keras.layers import Dense, Flatten, Conv2D, MaxPool2D, Dropout\n",
    "from tensorflow.keras.models import Sequential\n",
    "from tensorflow.keras.utils import to_categorical\n",
    "from tensorflow.keras.callbacks import ModelCheckpoint\n",
    "from sklearn.model_selection import train_test_split"
   ]
  },
  {
   "cell_type": "code",
   "execution_count": 2,
   "metadata": {},
   "outputs": [],
   "source": [
    "# Unpickling the data\n",
    "pickle_in = open('data.pickle', 'rb')\n",
    "data = pickle.load(pickle_in)\n",
    "pickle_in = open('target.pickle', 'rb')\n",
    "target = pickle.load(pickle_in)"
   ]
  },
  {
   "cell_type": "code",
   "execution_count": 3,
   "metadata": {},
   "outputs": [],
   "source": [
    "# Building a CNN\n",
    "model = Sequential()\n",
    "model.add(Conv2D(100, (3, 3), input_shape=data.shape[1:], activation=\"relu\"))\n",
    "model.add(MaxPool2D(pool_size=(2, 2)))\n",
    "model.add(Conv2D(100, (3, 3), activation=\"relu\"))\n",
    "model.add(MaxPool2D(pool_size=(2, 2)))\n",
    "\n",
    "model.add(Flatten())\n",
    "model.add(Dropout(0.5))\n",
    "model.add(Dense(50, activation='relu'))\n",
    "model.add(Dense(2, activation='softmax'))"
   ]
  },
  {
   "cell_type": "code",
   "execution_count": 4,
   "metadata": {},
   "outputs": [],
   "source": [
    "# Compiling the model\n",
    "model.compile(loss='binary_crossentropy',\n",
    "              optimizer='adam', metrics=['accuracy'])"
   ]
  },
  {
   "cell_type": "code",
   "execution_count": 5,
   "metadata": {},
   "outputs": [
    {
     "name": "stdout",
     "output_type": "stream",
     "text": [
      "Model: \"sequential\"\n",
      "_________________________________________________________________\n",
      "Layer (type)                 Output Shape              Param #   \n",
      "=================================================================\n",
      "conv2d (Conv2D)              (None, 148, 148, 100)     2800      \n",
      "_________________________________________________________________\n",
      "max_pooling2d (MaxPooling2D) (None, 74, 74, 100)       0         \n",
      "_________________________________________________________________\n",
      "conv2d_1 (Conv2D)            (None, 72, 72, 100)       90100     \n",
      "_________________________________________________________________\n",
      "max_pooling2d_1 (MaxPooling2 (None, 36, 36, 100)       0         \n",
      "_________________________________________________________________\n",
      "flatten (Flatten)            (None, 129600)            0         \n",
      "_________________________________________________________________\n",
      "dropout (Dropout)            (None, 129600)            0         \n",
      "_________________________________________________________________\n",
      "dense (Dense)                (None, 50)                6480050   \n",
      "_________________________________________________________________\n",
      "dense_1 (Dense)              (None, 2)                 102       \n",
      "=================================================================\n",
      "Total params: 6,573,052\n",
      "Trainable params: 6,573,052\n",
      "Non-trainable params: 0\n",
      "_________________________________________________________________\n"
     ]
    }
   ],
   "source": [
    "model.summary()"
   ]
  },
  {
   "cell_type": "code",
   "execution_count": 6,
   "metadata": {},
   "outputs": [],
   "source": [
    "train_data,test_data,train_target,test_target=train_test_split(data,target,test_size=0.2)"
   ]
  },
  {
   "cell_type": "code",
   "execution_count": 7,
   "metadata": {},
   "outputs": [
    {
     "name": "stdout",
     "output_type": "stream",
     "text": [
      "Epoch 1/10\n",
      "88/88 [==============================] - ETA: 0s - loss: 0.4990 - accuracy: 0.8136\n",
      "Epoch 00001: val_accuracy improved from -inf to 0.95000, saving model to best_model/\n",
      "WARNING:tensorflow:From /home/pratt/.local/lib/python3.8/site-packages/tensorflow/python/training/tracking/tracking.py:111: Model.state_updates (from tensorflow.python.keras.engine.training) is deprecated and will be removed in a future version.\n",
      "Instructions for updating:\n",
      "This property should not be used in TensorFlow 2.0, as updates are applied automatically.\n",
      "WARNING:tensorflow:From /home/pratt/.local/lib/python3.8/site-packages/tensorflow/python/training/tracking/tracking.py:111: Layer.updates (from tensorflow.python.keras.engine.base_layer) is deprecated and will be removed in a future version.\n",
      "Instructions for updating:\n",
      "This property should not be used in TensorFlow 2.0, as updates are applied automatically.\n",
      "INFO:tensorflow:Assets written to: best_model/assets\n",
      "88/88 [==============================] - 47s 538ms/step - loss: 0.4990 - accuracy: 0.8136 - val_loss: 0.1512 - val_accuracy: 0.9500\n",
      "Epoch 2/10\n",
      "88/88 [==============================] - ETA: 0s - loss: 0.1337 - accuracy: 0.9568\n",
      "Epoch 00002: val_accuracy improved from 0.95000 to 0.96818, saving model to best_model/\n",
      "INFO:tensorflow:Assets written to: best_model/assets\n",
      "88/88 [==============================] - 53s 598ms/step - loss: 0.1337 - accuracy: 0.9568 - val_loss: 0.0655 - val_accuracy: 0.9682\n",
      "Epoch 3/10\n",
      "88/88 [==============================] - ETA: 0s - loss: 0.1040 - accuracy: 0.9602\n",
      "Epoch 00003: val_accuracy did not improve from 0.96818\n",
      "88/88 [==============================] - 49s 553ms/step - loss: 0.1040 - accuracy: 0.9602 - val_loss: 0.0725 - val_accuracy: 0.9682\n",
      "Epoch 4/10\n",
      "88/88 [==============================] - ETA: 0s - loss: 0.0991 - accuracy: 0.9636\n",
      "Epoch 00004: val_accuracy did not improve from 0.96818\n",
      "88/88 [==============================] - 49s 556ms/step - loss: 0.0991 - accuracy: 0.9636 - val_loss: 0.0766 - val_accuracy: 0.9682\n",
      "Epoch 5/10\n",
      "88/88 [==============================] - ETA: 0s - loss: 0.0801 - accuracy: 0.9705\n",
      "Epoch 00005: val_accuracy improved from 0.96818 to 0.98182, saving model to best_model/\n",
      "INFO:tensorflow:Assets written to: best_model/assets\n",
      "88/88 [==============================] - 48s 550ms/step - loss: 0.0801 - accuracy: 0.9705 - val_loss: 0.0921 - val_accuracy: 0.9818\n",
      "Epoch 6/10\n",
      "88/88 [==============================] - ETA: 0s - loss: 0.0712 - accuracy: 0.9784\n",
      "Epoch 00006: val_accuracy did not improve from 0.98182\n",
      "88/88 [==============================] - 49s 557ms/step - loss: 0.0712 - accuracy: 0.9784 - val_loss: 0.0594 - val_accuracy: 0.9818\n",
      "Epoch 7/10\n",
      "88/88 [==============================] - ETA: 0s - loss: 0.0407 - accuracy: 0.9841\n",
      "Epoch 00007: val_accuracy did not improve from 0.98182\n",
      "88/88 [==============================] - 48s 541ms/step - loss: 0.0407 - accuracy: 0.9841 - val_loss: 0.0871 - val_accuracy: 0.9636\n",
      "Epoch 8/10\n",
      "88/88 [==============================] - ETA: 0s - loss: 0.0607 - accuracy: 0.9784\n",
      "Epoch 00008: val_accuracy did not improve from 0.98182\n",
      "88/88 [==============================] - 47s 539ms/step - loss: 0.0607 - accuracy: 0.9784 - val_loss: 0.0438 - val_accuracy: 0.9818\n",
      "Epoch 9/10\n",
      "88/88 [==============================] - ETA: 0s - loss: 0.0168 - accuracy: 0.9932\n",
      "Epoch 00009: val_accuracy did not improve from 0.98182\n",
      "88/88 [==============================] - 47s 538ms/step - loss: 0.0168 - accuracy: 0.9932 - val_loss: 0.0611 - val_accuracy: 0.9818\n",
      "Epoch 10/10\n",
      "88/88 [==============================] - ETA: 0s - loss: 0.0912 - accuracy: 0.9830\n",
      "Epoch 00010: val_accuracy did not improve from 0.98182\n",
      "88/88 [==============================] - 49s 554ms/step - loss: 0.0912 - accuracy: 0.9830 - val_loss: 0.0670 - val_accuracy: 0.9818\n"
     ]
    }
   ],
   "source": [
    "filepath=\"best_model/\"\n",
    "checkpoint = ModelCheckpoint(filepath, monitor='val_accuracy', verbose=1, save_best_only=True, mode='max')\n",
    "callbacks_list = [checkpoint]\n",
    "history=model.fit(train_data,train_target,epochs=10,callbacks=callbacks_list,validation_split=0.2, batch_size=10)"
   ]
  },
  {
   "cell_type": "code",
   "execution_count": 10,
   "metadata": {},
   "outputs": [
    {
     "name": "stdout",
     "output_type": "stream",
     "text": [
      "9/9 [==============================] - 4s 408ms/step - loss: 0.1157 - accuracy: 0.9601\n",
      "[0.11568393558263779, 0.9601449370384216]\n"
     ]
    }
   ],
   "source": [
    "model = tf.keras.models.load_model(\"best_model\")\n",
    "print(model.evaluate(test_data,test_target))"
   ]
  },
  {
   "cell_type": "code",
   "execution_count": null,
   "metadata": {},
   "outputs": [],
   "source": []
  }
 ],
 "metadata": {
  "kernelspec": {
   "display_name": "Python 3",
   "language": "python",
   "name": "python3"
  },
  "language_info": {
   "codemirror_mode": {
    "name": "ipython",
    "version": 3
   },
   "file_extension": ".py",
   "mimetype": "text/x-python",
   "name": "python",
   "nbconvert_exporter": "python",
   "pygments_lexer": "ipython3",
   "version": "3.8.5"
  },
  "varInspector": {
   "cols": {
    "lenName": 16,
    "lenType": 16,
    "lenVar": 40
   },
   "kernels_config": {
    "python": {
     "delete_cmd_postfix": "",
     "delete_cmd_prefix": "del ",
     "library": "var_list.py",
     "varRefreshCmd": "print(var_dic_list())"
    },
    "r": {
     "delete_cmd_postfix": ") ",
     "delete_cmd_prefix": "rm(",
     "library": "var_list.r",
     "varRefreshCmd": "cat(var_dic_list()) "
    }
   },
   "types_to_exclude": [
    "module",
    "function",
    "builtin_function_or_method",
    "instance",
    "_Feature"
   ],
   "window_display": false
  }
 },
 "nbformat": 4,
 "nbformat_minor": 4
}
