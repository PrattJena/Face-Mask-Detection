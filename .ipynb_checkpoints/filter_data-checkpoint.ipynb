{
 "cells": [
  {
   "cell_type": "code",
   "execution_count": 1,
   "metadata": {},
   "outputs": [],
   "source": [
    "import os \n",
    "import cv2\n",
    "import numpy as np\n",
    "import pickle\n",
    "import imutils\n",
    "import random\n",
    "from tensorflow.keras.utils import to_categorical"
   ]
  },
  {
   "cell_type": "code",
   "execution_count": 2,
   "metadata": {},
   "outputs": [
    {
     "name": "stdout",
     "output_type": "stream",
     "text": [
      "{'without_mask': 0, 'with_mask': 1}\n",
      "['without_mask', 'with_mask']\n",
      "[0, 1]\n"
     ]
    }
   ],
   "source": [
    "# Getting the data\n",
    "data_path='dataset'\n",
    "categories=os.listdir(data_path)\n",
    "labels=[i for i in range(len(categories))]\n",
    "\n",
    "label_dict=dict(zip(categories,labels))\n",
    "\n",
    "print(label_dict)\n",
    "print(categories)\n",
    "print(labels)"
   ]
  },
  {
   "cell_type": "code",
   "execution_count": 3,
   "metadata": {},
   "outputs": [],
   "source": [
    "img_size = 150\n",
    "data = []\n",
    "target = []\n",
    "\n",
    "for category in categories:\n",
    "    folder_path = os.path.join(data_path, category)\n",
    "    img_names = os.listdir(folder_path)\n",
    "    for img_name in img_names:\n",
    "        img_path = os.path.join(folder_path, img_name)\n",
    "        img = cv2.imread(img_path)\n",
    "        try:\n",
    "            resized = cv2.resize(img, (img_size, img_size))\n",
    "            # resizing the gray scale into 150x150\n",
    "            data.append(resized)\n",
    "            target.append(label_dict[category])\n",
    "            # appending the image and the label(categorized) into the list (dataset)\n",
    "        except Exception as e:\n",
    "            print('Exception:', e)\n",
    "            # if any exception rasied, the exception will be printed here."
   ]
  },
  {
   "cell_type": "code",
   "execution_count": 4,
   "metadata": {},
   "outputs": [],
   "source": [
    "data = np.array(data)/255.0\n",
    "data = np.reshape(data, (data.shape[0], img_size, img_size, 3))\n",
    "target = np.array(target)\n",
    "\n",
    "new_target = to_categorical(target)"
   ]
  },
  {
   "cell_type": "code",
   "execution_count": 5,
   "metadata": {},
   "outputs": [],
   "source": [
    "pickle_out = open('data.pickle', 'wb')\n",
    "pickle.dump(data, pickle_out)\n",
    "pickle_out.close()\n",
    "pickle_out = open('target.pickle', 'wb')\n",
    "pickle.dump(new_target, pickle_out)\n",
    "pickle_out.close()"
   ]
  }
 ],
 "metadata": {
  "kernelspec": {
   "display_name": "Python 3",
   "language": "python",
   "name": "python3"
  },
  "language_info": {
   "codemirror_mode": {
    "name": "ipython",
    "version": 3
   },
   "file_extension": ".py",
   "mimetype": "text/x-python",
   "name": "python",
   "nbconvert_exporter": "python",
   "pygments_lexer": "ipython3",
   "version": "3.8.5"
  },
  "varInspector": {
   "cols": {
    "lenName": 16,
    "lenType": 16,
    "lenVar": 40
   },
   "kernels_config": {
    "python": {
     "delete_cmd_postfix": "",
     "delete_cmd_prefix": "del ",
     "library": "var_list.py",
     "varRefreshCmd": "print(var_dic_list())"
    },
    "r": {
     "delete_cmd_postfix": ") ",
     "delete_cmd_prefix": "rm(",
     "library": "var_list.r",
     "varRefreshCmd": "cat(var_dic_list()) "
    }
   },
   "types_to_exclude": [
    "module",
    "function",
    "builtin_function_or_method",
    "instance",
    "_Feature"
   ],
   "window_display": false
  }
 },
 "nbformat": 4,
 "nbformat_minor": 4
}
